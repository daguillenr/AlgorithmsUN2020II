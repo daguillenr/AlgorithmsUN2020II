{
  "nbformat": 4,
  "nbformat_minor": 0,
  "metadata": {
    "colab": {
      "name": "QuadraticEquation-daguillenr.ipynb",
      "provenance": [],
      "collapsed_sections": [],
      "toc_visible": true
    },
    "kernelspec": {
      "name": "python3",
      "display_name": "Python 3"
    }
  },
  "cells": [
    {
      "cell_type": "markdown",
      "metadata": {
        "id": "eicfsh0gYMTe"
      },
      "source": [
        "#Lab 6\n",
        "##Quadratic Equation Po Shen Lo\n",
        "### Daniel Alejandro Guillén Rodríguez"
      ]
    },
    {
      "cell_type": "code",
      "metadata": {
        "id": "XSmj-0fyZiHr"
      },
      "source": [
        "import math\n",
        "import matplotlib.pyplot as plt\n",
        "import numpy as np"
      ],
      "execution_count": 2,
      "outputs": []
    },
    {
      "cell_type": "markdown",
      "metadata": {
        "id": "-6nIh3CZYzq4"
      },
      "source": [
        "1:\n",
        "Grafique las siguientes funciones en un rango x que incluya el vértice y las raíces"
      ]
    },
    {
      "cell_type": "markdown",
      "metadata": {
        "id": "oMsONPorZCG6"
      },
      "source": [
        "- $x^{2}$"
      ]
    },
    {
      "cell_type": "code",
      "metadata": {
        "id": "yqJLlR4NZL7G",
        "colab": {
          "base_uri": "https://localhost:8080/",
          "height": 312
        },
        "outputId": "9f95c597-66b8-49a7-f21a-238155d20570"
      },
      "source": [
        "def f1(z):\n",
        "    return z ** 2 \n",
        "\n",
        "def df1(z):\n",
        "    return 2 * z\n",
        "\n",
        "x = np.linspace(-2.0,2.0,100)\n",
        "fig, ax = plt.subplots()\n",
        "ax.plot(x,f1(x))\n",
        "ax.axhline(y=0, color='k')\n",
        "ax.axvline(x=0, color='k')\n",
        "ax.grid(True, which='both')\n",
        "plt.title('f1(x)=x^2')\n",
        "plt.xlabel('x')\n",
        "plt.ylabel('f1(x)')"
      ],
      "execution_count": 3,
      "outputs": [
        {
          "output_type": "execute_result",
          "data": {
            "text/plain": [
              "Text(0, 0.5, 'f1(x)')"
            ]
          },
          "metadata": {
            "tags": []
          },
          "execution_count": 3
        },
        {
          "output_type": "display_data",
          "data": {
            "image/png": "[encoded data removed]",
            "text/plain": [
              "<Figure size 432x288 with 1 Axes>"
            ]
          },
          "metadata": {
            "tags": [],
            "needs_background": "light"
          }
        }
      ]
    },
    {
      "cell_type": "markdown",
      "metadata": {
        "id": "gLzzE2Z4ZnGI"
      },
      "source": [
        "- $(x-1)^{2}$"
      ]
    },
    {
      "cell_type": "code",
      "metadata": {
        "id": "QQAesZLdZnGJ",
        "colab": {
          "base_uri": "https://localhost:8080/",
          "height": 312
        },
        "outputId": "67e033ab-610d-448b-88e0-e060625cbdcb"
      },
      "source": [
        "def f2(z):\n",
        "    return (z - 1) ** 2 \n",
        "\n",
        "def df2(z):\n",
        "    return 2 * z - 2\n",
        "\n",
        "x = np.linspace(-2.0,2.0,100)\n",
        "fig, ax = plt.subplots()\n",
        "ax.plot(x,f2(x))\n",
        "ax.axhline(y=0, color='k')\n",
        "ax.axvline(x=0, color='k')\n",
        "ax.grid(True, which='both')\n",
        "plt.title('f2(x)=(x-1)^2')\n",
        "plt.xlabel('x')\n",
        "plt.ylabel('f2(x)')"
      ],
      "execution_count": 4,
      "outputs": [
        {
          "output_type": "execute_result",
          "data": {
            "text/plain": [
              "Text(0, 0.5, 'f2(x)')"
            ]
          },
          "metadata": {
            "tags": []
          },
          "execution_count": 4
        },
        {
          "output_type": "display_data",
          "data": {
            "image/png": "[encoded data removed]",
            "text/plain": [
              "<Figure size 432x288 with 1 Axes>"
            ]
          },
          "metadata": {
            "tags": [],
            "needs_background": "light"
          }
        }
      ]
    },
    {
      "cell_type": "markdown",
      "metadata": {
        "id": "UuTW0juIahAg"
      },
      "source": [
        "- $x^{2}-1$"
      ]
    },
    {
      "cell_type": "code",
      "metadata": {
        "id": "M-XnAX-XahAi",
        "colab": {
          "base_uri": "https://localhost:8080/",
          "height": 312
        },
        "outputId": "9f48019c-c35a-44f2-afde-4921ea34aea3"
      },
      "source": [
        "def f3(z):\n",
        "    return z ** 2 -1\n",
        "\n",
        "def df3(z):\n",
        "    return 2 * z\n",
        "\n",
        "x = np.linspace(-2.0,2.0,100)\n",
        "fig, ax = plt.subplots()\n",
        "ax.plot(x,f3(x))\n",
        "ax.axhline(y=0, color='k')\n",
        "ax.axvline(x=0, color='k')\n",
        "ax.grid(True, which='both')\n",
        "plt.title('f3(x)=x^2-1')\n",
        "plt.xlabel('x')\n",
        "plt.ylabel('f3(x)')"
      ],
      "execution_count": 5,
      "outputs": [
        {
          "output_type": "execute_result",
          "data": {
            "text/plain": [
              "Text(0, 0.5, 'f3(x)')"
            ]
          },
          "metadata": {
            "tags": []
          },
          "execution_count": 5
        },
        {
          "output_type": "display_data",
          "data": {
            "image/png": "[encoded data removed]",
            "text/plain": [
              "<Figure size 432x288 with 1 Axes>"
            ]
          },
          "metadata": {
            "tags": [],
            "needs_background": "light"
          }
        }
      ]
    },
    {
      "cell_type": "markdown",
      "metadata": {
        "id": "JmKLXuuBawFi"
      },
      "source": [
        "- $x^{2}+1$"
      ]
    },
    {
      "cell_type": "code",
      "metadata": {
        "id": "-DHdh9xOawFj",
        "colab": {
          "base_uri": "https://localhost:8080/",
          "height": 312
        },
        "outputId": "fbb54aaf-a887-4c6a-d8d0-724522e3264b"
      },
      "source": [
        "def f4(z):\n",
        "    return z ** 2 +1\n",
        "\n",
        "def df4(z):\n",
        "    return 2 * z\n",
        "\n",
        "x = np.linspace(-2.0,2.0,100)\n",
        "fig, ax = plt.subplots()\n",
        "ax.plot(x,f4(x))\n",
        "ax.axhline(y=0, color='k')\n",
        "ax.axvline(x=0, color='k')\n",
        "ax.grid(True, which='both')\n",
        "plt.title('f4(x)=x^2+1')\n",
        "plt.xlabel('x')\n",
        "plt.ylabel('f4(x)')"
      ],
      "execution_count": 6,
      "outputs": [
        {
          "output_type": "execute_result",
          "data": {
            "text/plain": [
              "Text(0, 0.5, 'f4(x)')"
            ]
          },
          "metadata": {
            "tags": []
          },
          "execution_count": 6
        },
        {
          "output_type": "display_data",
          "data": {
            "image/png": "[encoded data removed]",
            "text/plain": [
              "<Figure size 432x288 with 1 Axes>"
            ]
          },
          "metadata": {
            "tags": [],
            "needs_background": "light"
          }
        }
      ]
    },
    {
      "cell_type": "markdown",
      "metadata": {
        "id": "pr6wZIzpbKHT"
      },
      "source": [
        "####Punto 2: Aplicar los métodos Classic y Po Shen Loh para resolver las siguientes ecuaciones cuadráticas"
      ]
    },
    {
      "cell_type": "markdown",
      "metadata": {
        "id": "E6a9_b4qbeoY"
      },
      "source": [
        "- $x^{2} = 0$\n",
        "\n",
        " \n",
        "###Método Clásico: \n",
        "$a = 1, b = 0, c = 0 \\\\ \\frac{- 0 \\pm \\sqrt{0^{2}- 4(2)(0)}}{2*1} = 0 $\n",
        "###Método Po Shen Loh\n",
        "$\\frac{-0}{2} \\pm u \\\\ (-u)(u)=-u^{2} = 0\\\\ u = 0$\n",
        "\n",
        "\n",
        "La raíz  $0$"
      ]
    },
    {
      "cell_type": "markdown",
      "metadata": {
        "id": "ZoyP_4gdbeoa"
      },
      "source": [
        "- $(x-1)^{2} = x^{2}-2x+1$\n",
        "###Método Clásico: \n",
        "$a = 1, b = -2, c = 1 \\\\ \\frac{2 \\pm \\sqrt{4- 4(1)(1)}}{2*1} = \\frac{2 \\pm \\sqrt{0}}{2*1} = 1$\n",
        "\n",
        "La raíz es $1$\n",
        "###Método Po Shen Loh\n",
        "$\\frac{2}{2} \\pm u = r,s\\\\ (1-u)(1+u)=1-u^{2} = 1\\\\ u = 0$\n",
        "\n",
        "La raíz  $1$"
      ]
    },
    {
      "cell_type": "markdown",
      "metadata": {
        "id": "k-7vDsV9beob"
      },
      "source": [
        "- $x^{2}-1$\n",
        "###Método Clásico: \n",
        "$a = 1, b = 0, c = -1 \\\\ \\frac{-0 \\pm \\sqrt{0- 4(1)(-1)}}{2*1} = \\frac{0 \\pm \\sqrt{4}}{2*1} = 1,-1$\n",
        "\n",
        "las raíces son $1, -1.$\n",
        "###Método Po Shen Loh\n",
        "$\\frac{0}{2} \\pm u = r,s\\\\ (-u)(u)=-u^{2} = -1\\\\ u = 1$\n",
        "las raíces son $1, -1.$"
      ]
    },
    {
      "cell_type": "markdown",
      "metadata": {
        "id": "Ty-xC-QTbeoc"
      },
      "source": [
        "- $x^{2}+1$\n",
        "###Método Clásico: \n",
        "$a = 1, b = 0, c = 1 \\\\ \\frac{-0 \\pm \\sqrt{0- 4(1)(1)}}{2*1}$\n",
        "\n",
        "No tiene raíces en los reales.\n",
        "###Método Po Shen Loh\n",
        "$\\frac{0}{2} \\pm u = r,s\\\\ (-u)(u)=-u^{2} = 1$\n",
        "\n",
        "No tiene raices en los reales"
      ]
    },
    {
      "cell_type": "markdown",
      "metadata": {
        "id": "rHZpcozrFnZ9"
      },
      "source": [
        "####Punto 3: Grafique los fractales de Newton correspondientes a los polinomios cuadráticos complejos"
      ]
    },
    {
      "cell_type": "markdown",
      "metadata": {
        "id": "YFhhrpBnF31g"
      },
      "source": [
        "- $z^2$"
      ]
    },
    {
      "cell_type": "code",
      "metadata": {
        "id": "XX4aa5NWGLMx",
        "colab": {
          "base_uri": "https://localhost:8080/",
          "height": 1000
        },
        "outputId": "e3c055f5-6d2d-49b2-c4f4-bf1d5dd84311"
      },
      "source": [
        "def newton_set1(z_c_r=0, z_c_i=0, zh = 5, zw=5, width=500, height=500, zoom=1,  niter=256):\n",
        "    \n",
        "    # Pixels array\n",
        "    pixels = np.arange(width*height*3, dtype=np.uint32).reshape(height, width, 3)\n",
        "    h = 1e-7 \n",
        "    eps = 0.5 \n",
        "    r1 = 0\n",
        "    multcol = 5\n",
        "\n",
        "    for y in range(height):\n",
        "            zy =   z_c_i+(((y-(height/2))/height)*zh*zoom)\n",
        "\n",
        "            for x in range(width):\n",
        "                zx = z_c_r+ (((x-(width/2))/width)*zw*zoom)\n",
        "\n",
        "                # Mapping real -> complex plane\n",
        "                z = complex(zx,zy)\n",
        "                count = 0\n",
        "                \n",
        "                for i in range(niter):\n",
        "                    # complex numerical derivative\n",
        "                    dz = df1(z)\n",
        "                    if dz == 0:\n",
        "                        break\n",
        "\n",
        "                    count += 1\n",
        "                    if count > 255:\n",
        "                        break\n",
        "                   \n",
        "                    znext = z - f1(z) / dz # Newton iteration\n",
        "\n",
        "                    \n",
        "                    \n",
        "                    z = znext\n",
        "\n",
        "                # Pixels colored using the roots\n",
        "                \n",
        "                if abs(z-r1)<eps:\n",
        "                    # color red\n",
        "                    pixels[height-y-1,x] = (255 - count*multcol, 0, 0)                \n",
        "                else:   \n",
        "                   pixels[height-y-1,x] = (0, 0, 0)\n",
        "               \n",
        "    return pixels\n",
        "\n",
        "def display1(z_c_r=0, z_c_i=0, zh = 1, zw=1, width=500, height=500, zoom=1,  niter=256):\n",
        "    \"\"\" Display a newton-raphson fractal \"\"\"\n",
        "    print(\"Z region from (\",z_c_r+ (((0-(width/2))/width)*zw*zoom),\",\",z_c_i+(((0-(height/2))/height)*zh*zoom) ,\") to (\",z_c_r+ (((width-(width/2))/width)*zw*zoom),\",\",z_c_i+(((height-(height/2))/height)*zh*zoom),\")\")\n",
        "    pimg = newton_set1(z_c_r=z_c_r, z_c_i=z_c_i, zh = zh, zw=zw, width=width, height=width, zoom=zoom,  niter=niter)\n",
        "    plt.title('Newton Fractal f(x)=Z^2-1')\n",
        "    plt.xlabel(\"real\"+\"(\"+ str(z_c_r+ (((0-(width/2))/width)*zw*zoom))+\",\"+str(z_c_r+ (((width-(width/2))/width)*zw*zoom))+\")\")\n",
        "    plt.ylabel(\"imaginary\"+\"(\"+str(z_c_i+(((0-(height/2))/height)*zh*zoom))+\",\"+str(z_c_i+(((height-(height/2))/height)*zh*zoom)) +\")\")\n",
        "    plt.imshow(pimg)\n",
        "    plt.show()\n",
        "print(\"zoom out\")\n",
        "display1(zoom=1)\n",
        "display1(zoom=2)\n",
        "display1(zoom=3)\n",
        "display1(zoom=4)\n",
        "display1(zoom=5)\n"
      ],
      "execution_count": 7,
      "outputs": [
        {
          "output_type": "stream",
          "text": [
            "zoom out\n",
            "Z region from ( -0.5 , -0.5 ) to ( 0.5 , 0.5 )\n"
          ],
          "name": "stdout"
        },
        {
          "output_type": "stream",
          "text": [
            "Clipping input data to the valid range for imshow with RGB data ([0..1] for floats or [0..255] for integers).\n"
          ],
          "name": "stderr"
        },
        {
          "output_type": "display_data",
          "data": {
            "image/png": "[encoded data removed]",
            "text/plain": [
              "<Figure size 432x288 with 1 Axes>"
            ]
          },
          "metadata": {
            "tags": [],
            "needs_background": "light"
          }
        },
        {
          "output_type": "stream",
          "text": [
            "Z region from ( -1.0 , -1.0 ) to ( 1.0 , 1.0 )\n"
          ],
          "name": "stdout"
        },
        {
          "output_type": "stream",
          "text": [
            "Clipping input data to the valid range for imshow with RGB data ([0..1] for floats or [0..255] for integers).\n"
          ],
          "name": "stderr"
        },
        {
          "output_type": "display_data",
          "data": {
            "image/png": "[encoded data removed]",
            "text/plain": [
              "<Figure size 432x288 with 1 Axes>"
            ]
          },
          "metadata": {
            "tags": [],
            "needs_background": "light"
          }
        },
        {
          "output_type": "stream",
          "text": [
            "Z region from ( -1.5 , -1.5 ) to ( 1.5 , 1.5 )\n"
          ],
          "name": "stdout"
        },
        {
          "output_type": "stream",
          "text": [
            "Clipping input data to the valid range for imshow with RGB data ([0..1] for floats or [0..255] for integers).\n"
          ],
          "name": "stderr"
        },
        {
          "output_type": "display_data",
          "data": {
            "image/png": "[encoded data removed]",
            "text/plain": [
              "<Figure size 432x288 with 1 Axes>"
            ]
          },
          "metadata": {
            "tags": [],
            "needs_background": "light"
          }
        },
        {
          "output_type": "stream",
          "text": [
            "Z region from ( -2.0 , -2.0 ) to ( 2.0 , 2.0 )\n"
          ],
          "name": "stdout"
        },
        {
          "output_type": "stream",
          "text": [
            "Clipping input data to the valid range for imshow with RGB data ([0..1] for floats or [0..255] for integers).\n"
          ],
          "name": "stderr"
        },
        {
          "output_type": "display_data",
          "data": {
            "image/png": "[encoded data removed]",
            "text/plain": [
              "<Figure size 432x288 with 1 Axes>"
            ]
          },
          "metadata": {
            "tags": [],
            "needs_background": "light"
          }
        },
        {
          "output_type": "stream",
          "text": [
            "Z region from ( -2.5 , -2.5 ) to ( 2.5 , 2.5 )\n"
          ],
          "name": "stdout"
        },
        {
          "output_type": "stream",
          "text": [
            "Clipping input data to the valid range for imshow with RGB data ([0..1] for floats or [0..255] for integers).\n"
          ],
          "name": "stderr"
        },
        {
          "output_type": "display_data",
          "data": {
            "image/png": "[encoded data removed]",
            "text/plain": [
              "<Figure size 432x288 with 1 Axes>"
            ]
          },
          "metadata": {
            "tags": [],
            "needs_background": "light"
          }
        }
      ]
    },
    {
      "cell_type": "markdown",
      "metadata": {
        "id": "j2yqGwN1Bztw"
      },
      "source": [
        "- $$(z-1)^2$$"
      ]
    },
    {
      "cell_type": "code",
      "metadata": {
        "id": "Ams4gbRnvYZj",
        "colab": {
          "base_uri": "https://localhost:8080/",
          "height": 363
        },
        "outputId": "4f5d37e1-54f9-4d23-f5c5-dd94cd594df2"
      },
      "source": [
        "def newton_set1(z_c_r=0, z_c_i=0, zh = 5, zw=5, width=500, height=500, zoom=1,  niter=256):\n",
        "    \"\"\" Fractals using newton-raphson \"\"\"\n",
        "\n",
        "    # Pixels array\n",
        "    pixels = np.arange(width*height*3, dtype=np.uint32).reshape(height, width, 3)\n",
        "\n",
        "    h = 1e-7 # step size for numerical derivative\n",
        "    eps = 0.5 # max error allowed\n",
        "\n",
        "    # Bounding roots\n",
        "    r1 = 1\n",
        "    \n",
        "\n",
        "    # Color multiplication factor\n",
        "    # NOTE: Increasing this darkens the image and lightens it otherwise\n",
        "    multcol = 5\n",
        "\n",
        "    for y in range(height):\n",
        "            zy =   z_c_i+(((y-(height/2))/height)*zh*zoom)\n",
        "\n",
        "            for x in range(width):\n",
        "                zx = z_c_r+ (((x-(width/2))/width)*zw*zoom)\n",
        "\n",
        "                # Mapping real -> complex plane\n",
        "                z = complex(zx,zy)\n",
        "                count = 0\n",
        "                \n",
        "                for i in range(niter):\n",
        "                    # complex numerical derivative\n",
        "                    dz = df2(z)\n",
        "                    if dz == 0:\n",
        "                        break\n",
        "\n",
        "                    count += 1\n",
        "                    if count > 255:\n",
        "                        break\n",
        "                   \n",
        "                    znext = z - f2(z) / dz # Newton iteration\n",
        "\n",
        "                  \n",
        "                    \n",
        "                    z = znext\n",
        "\n",
        "                # Pixels colored using the roots\n",
        "                \n",
        "                if abs(z-r1)<eps:\n",
        "                    # color red\n",
        "                    pixels[height-y-1,x] = (255 - count*multcol, 0, 0)                \n",
        "                else:   \n",
        "                   pixels[height-y-1,x] = (0, 0, 0)\n",
        "               \n",
        "    return pixels\n",
        "\n",
        "def display1(z_c_r=0, z_c_i=0, zh = 1, zw=1, width=500, height=500, zoom=1,  niter=256):\n",
        "    \"\"\" Display a newton-raphson fractal \"\"\"\n",
        "    print(\"Z region from (\",z_c_r+ (((0-(width/2))/width)*zw*zoom),\",\",z_c_i+(((0-(height/2))/height)*zh*zoom) ,\") to (\",z_c_r+ (((width-(width/2))/width)*zw*zoom),\",\",z_c_i+(((height-(height/2))/height)*zh*zoom),\")\")\n",
        "    pimg = newton_set1(z_c_r=z_c_r, z_c_i=z_c_i, zh = zh, zw=zw, width=width, height=width, zoom=zoom,  niter=niter)\n",
        "    plt.title('Newton Fractal f(x)=Z^2-1')\n",
        "    plt.xlabel(\"real\"+\"(\"+ str(z_c_r+ (((0-(width/2))/width)*zw*zoom))+\",\"+str(z_c_r+ (((width-(width/2))/width)*zw*zoom))+\")\")\n",
        "    plt.ylabel(\"imaginary\"+\"(\"+str(z_c_i+(((0-(height/2))/height)*zh*zoom))+\",\"+str(z_c_i+(((height-(height/2))/height)*zh*zoom)) +\")\")\n",
        "    plt.imshow(pimg)\n",
        "    plt.show()\n",
        "print(\"zoom out\")\n",
        "display1(zoom=1)\n",
        "display1(zoom=2)\n",
        "display1(zoom=3)\n",
        "display1(zoom=4)\n",
        "display1(zoom=5)\n"
      ],
      "execution_count": null,
      "outputs": [
        {
          "output_type": "stream",
          "text": [
            "zoom out\n",
            "Z region from ( -0.5 , -0.5 ) to ( 0.5 , 0.5 )\n"
          ],
          "name": "stdout"
        },
        {
          "output_type": "stream",
          "text": [
            "Clipping input data to the valid range for imshow with RGB data ([0..1] for floats or [0..255] for integers).\n"
          ],
          "name": "stderr"
        },
        {
          "output_type": "display_data",
          "data": {
            "image/png": "[encoded data removed]",
            "text/plain": [
              "<Figure size 432x288 with 1 Axes>"
            ]
          },
          "metadata": {
            "tags": [],
            "needs_background": "light"
          }
        },
        {
          "output_type": "stream",
          "text": [
            "Z region from ( -1.0 , -1.0 ) to ( 1.0 , 1.0 )\n"
          ],
          "name": "stdout"
        }
      ]
    },
    {
      "cell_type": "markdown",
      "metadata": {
        "id": "1YgyAuwtCCPh"
      },
      "source": [
        "- $$z^{2}-1$$"
      ]
    },
    {
      "cell_type": "code",
      "metadata": {
        "id": "lfkly6oRIDCA"
      },
      "source": [
        "def newton_set1(z_c_r=0, z_c_i=0, zh = 5, zw=5, width=500, height=500, zoom=1,  niter=256):\n",
        "    \"\"\" Fractals using newton-raphson \"\"\"\n",
        "\n",
        "    # Pixels array\n",
        "    pixels = np.arange(width*height*3, dtype=np.uint32).reshape(height, width, 3)\n",
        "\n",
        "    h = 1e-7 # step size for numerical derivative\n",
        "    eps = 1e-3 # max error allowed\n",
        "\n",
        "    # Bounding roots\n",
        "    r1 = 1\n",
        "    r2 = -1\n",
        "\n",
        "    # Color multiplication factor\n",
        "    # NOTE: Increasing this darkens the image and lightens it otherwise\n",
        "    multcol = 5\n",
        "\n",
        "    for y in range(height):\n",
        "            zy =   z_c_i+(((y-(height/2))/height)*zh*zoom)\n",
        "\n",
        "            for x in range(width):\n",
        "                zx = z_c_r+ (((x-(width/2))/width)*zw*zoom)\n",
        "\n",
        "                # Mapping real -> complex plane\n",
        "                z = complex(zx, zy)\n",
        "                \n",
        "                count = 0\n",
        "                \n",
        "                for i in range(niter):\n",
        "                    # complex numerical derivative\n",
        "                    dz = df3(z)\n",
        "                    if dz == 0:\n",
        "                        break\n",
        "\n",
        "                    count += 1\n",
        "                    if count > 255:\n",
        "                        break\n",
        "                   \n",
        "                    znext = z - f3(z) / dz # Newton iteration\n",
        "\n",
        "                    if abs(znext - z) < eps: # stop when close enough to any root\n",
        "                        break\n",
        "                    \n",
        "                    z = znext\n",
        "\n",
        "                # Pixels colored using the roots\n",
        "                if abs(z-r1)<eps:\n",
        "                    # color red\n",
        "                    pixels[height-y-1,x] = (255 - count*multcol, 0, 0)\n",
        "                elif abs(z-r2)<=eps:\n",
        "                    # color green\n",
        "                    pixels[height-y-1,x] = (0, 255 - count*multcol, 0)\n",
        "                else:   \n",
        "                   pixels[height-y-1,x] = (0, 0, 0)\n",
        "               \n",
        "    return pixels\n",
        "\n",
        "def display1(z_c_r=0, z_c_i=0, zh = 1, zw=1, width=500, height=500, zoom=1,  niter=256):\n",
        "    \"\"\" Display a newton-raphson fractal \"\"\"\n",
        "    print(\"Z region from (\",z_c_r+ (((0-(width/2))/width)*zw*zoom),\",\",z_c_i+(((0-(height/2))/height)*zh*zoom) ,\") to (\",z_c_r+ (((width-(width/2))/width)*zw*zoom),\",\",z_c_i+(((height-(height/2))/height)*zh*zoom),\")\")\n",
        "    pimg = newton_set1(z_c_r=z_c_r, z_c_i=z_c_i, zh = zh, zw=zw, width=width, height=width, zoom=zoom,  niter=niter)\n",
        "    plt.title('Newton Fractal f(x)=Z^2-1')\n",
        "    plt.xlabel(\"real\"+\"(\"+ str(z_c_r+ (((0-(width/2))/width)*zw*zoom))+\",\"+str(z_c_r+ (((width-(width/2))/width)*zw*zoom))+\")\")\n",
        "    plt.ylabel(\"imaginary\"+\"(\"+str(z_c_i+(((0-(height/2))/height)*zh*zoom))+\",\"+str(z_c_i+(((height-(height/2))/height)*zh*zoom)) +\")\")\n",
        "    plt.imshow(pimg)\n",
        "    plt.show()\n",
        "print(\"zoom out\")\n",
        "display1(zoom=1)\n",
        "display1(zoom=2)\n",
        "display1(zoom=3)\n",
        "display1(zoom=4)\n",
        "display1(zoom=5)"
      ],
      "execution_count": null,
      "outputs": []
    },
    {
      "cell_type": "markdown",
      "metadata": {
        "id": "oQmeXzoSCLkb"
      },
      "source": [
        "- $$z^{2} + 1$$ "
      ]
    },
    {
      "cell_type": "code",
      "metadata": {
        "id": "nxWr24SQwddI"
      },
      "source": [
        "def newton_set1(z_c_r=0, z_c_i=0, zh = 5, zw=5, width=500, height=500, zoom=1,  niter=256):\n",
        "    \"\"\" Fractals using newton-raphson \"\"\"\n",
        "\n",
        "    # Pixels array\n",
        "    pixels = np.arange(width*height*3, dtype=np.uint32).reshape(height, width, 3)\n",
        "\n",
        "    h = 1e-7 # step size for numerical derivative\n",
        "    eps = 1e-3 # max error allowed\n",
        "\n",
        "    # Bounding roots\n",
        "    r1 = complex(0,-1)\n",
        "    r2 = complex(0,1)\n",
        "\n",
        "    # Color multiplication factor\n",
        "    # NOTE: Increasing this darkens the image and lightens it otherwise\n",
        "    multcol = 5\n",
        "\n",
        "    for y in range(height):\n",
        "            zy =   z_c_i+(((y-(height/2))/height)*zh*zoom)\n",
        "\n",
        "            for x in range(width):\n",
        "                zx = z_c_r+ (((x-(width/2))/width)*zw*zoom)\n",
        "\n",
        "                # Mapping real -> complex plane\n",
        "                z = complex(zx, zy)\n",
        "                \n",
        "                count = 0\n",
        "                \n",
        "                for i in range(niter):\n",
        "                    # complex numerical derivative\n",
        "                    dz = df4(z)\n",
        "                    if dz == 0:\n",
        "                        break\n",
        "\n",
        "                    count += 1\n",
        "                    if count > 255:\n",
        "                        break\n",
        "                   \n",
        "                    znext = z - f4(z) / dz # Newton iteration\n",
        "\n",
        "                    if abs(znext - z) < eps: # stop when close enough to any root\n",
        "                        break\n",
        "                    \n",
        "                    z = znext\n",
        "\n",
        "                # Pixels colored using the roots\n",
        "                if abs(z-r1)<eps:\n",
        "                    # color red\n",
        "                    pixels[height-y-1,x] = (255 - count*multcol, 0, 0)\n",
        "                elif abs(z-r2)<=eps:\n",
        "                    # color green\n",
        "                    pixels[height-y-1,x] = (0, 255 - count*multcol, 0)\n",
        "                else:   \n",
        "                   pixels[height-y-1,x] = (0, 0, 0)\n",
        "               \n",
        "    return pixels\n",
        "\n",
        "def display1(z_c_r=0, z_c_i=0, zh = 1, zw=1, width=500, height=500, zoom=1,  niter=256):\n",
        "    \"\"\" Display a newton-raphson fractal \"\"\"\n",
        "    print(\"Z region from (\",z_c_r+ (((0-(width/2))/width)*zw*zoom),\",\",z_c_i+(((0-(height/2))/height)*zh*zoom) ,\") to (\",z_c_r+ (((width-(width/2))/width)*zw*zoom),\",\",z_c_i+(((height-(height/2))/height)*zh*zoom),\")\")\n",
        "    pimg = newton_set1(z_c_r=z_c_r, z_c_i=z_c_i, zh = zh, zw=zw, width=width, height=width, zoom=zoom,  niter=niter)\n",
        "    plt.title('Newton Fractal f(x)=Z^2-1')\n",
        "    plt.xlabel(\"real\"+\"(\"+ str(z_c_r+ (((0-(width/2))/width)*zw*zoom))+\",\"+str(z_c_r+ (((width-(width/2))/width)*zw*zoom))+\")\")\n",
        "    plt.ylabel(\"imaginary\"+\"(\"+str(z_c_i+(((0-(height/2))/height)*zh*zoom))+\",\"+str(z_c_i+(((height-(height/2))/height)*zh*zoom)) +\")\")\n",
        "    plt.imshow(pimg)\n",
        "    plt.show()\n",
        "print(\"zoom out\")\n",
        "display1(zoom=1)\n",
        "display1(zoom=2)\n",
        "display1(zoom=3)\n",
        "display1(zoom=4)\n",
        "display1(zoom=5)"
      ],
      "execution_count": null,
      "outputs": []
    },
    {
      "cell_type": "markdown",
      "metadata": {
        "id": "Yu7u3GkD3YAu"
      },
      "source": [
        "####Punto 4: Grafique la iteración de Newton para los puntos en las diagonales en los cuatro cuadrantes y 0.0 + 0.0j para los polinomios cuadráticos complejos en 3. Dé una interpretación de los resultados."
      ]
    },
    {
      "cell_type": "markdown",
      "metadata": {
        "id": "SlYfiIK-3jSg"
      },
      "source": [
        "- $z^2$"
      ]
    },
    {
      "cell_type": "code",
      "metadata": {
        "id": "jSKKNCUQ3rw1"
      },
      "source": [
        "z=10.0 + 0.0j\n",
        "r=[]\n",
        "i=[]\n",
        "for k in range(50):\n",
        "  dz = df1(z)\n",
        "  z = z - f1(z) / dz # Newton iteration\n",
        "  r.append(np.real(z))\n",
        "  i.append(np.imag(z))\n",
        "plt.title('Newton iterates form z=10.0 + 0.0j')\n",
        "plt.plot(r)\n",
        "plt.ylabel('Real part')\n",
        "plt.show()\n",
        "plt.plot(i)\n",
        "plt.ylabel('Imaginary part')\n",
        "plt.show()"
      ],
      "execution_count": null,
      "outputs": []
    },
    {
      "cell_type": "code",
      "metadata": {
        "id": "I0YlRzyN_adW"
      },
      "source": [
        "z=-10.0 + 0.0j\n",
        "r=[]\n",
        "i=[]\n",
        "for k in range(50):\n",
        "  dz = df1(z)\n",
        "  z = z - f1(z) / dz # Newton iteration\n",
        "  r.append(np.real(z))\n",
        "  i.append(np.imag(z))\n",
        "plt.title('Newton iterates form z=-10.0 + 0.0j')\n",
        "plt.plot(r)\n",
        "plt.ylabel('Real part')\n",
        "plt.show()\n",
        "plt.plot(i)\n",
        "plt.ylabel('Imaginary part')\n",
        "plt.show()"
      ],
      "execution_count": null,
      "outputs": []
    },
    {
      "cell_type": "code",
      "metadata": {
        "id": "TJtCtbWj_t5W"
      },
      "source": [
        "z=0.0 + 10.0j\n",
        "r=[]\n",
        "i=[]\n",
        "for k in range(50):\n",
        "  dz = df1(z)\n",
        "  z = z - f1(z) / dz # Newton iteration\n",
        "  r.append(np.real(z))\n",
        "  i.append(np.imag(z))\n",
        "plt.title('Newton iterates form z=-10.0 + 0.0j')\n",
        "plt.plot(r)\n",
        "plt.ylabel('Real part')\n",
        "plt.show()\n",
        "plt.plot(i)\n",
        "plt.ylabel('Imaginary part')\n",
        "plt.show()"
      ],
      "execution_count": null,
      "outputs": []
    },
    {
      "cell_type": "code",
      "metadata": {
        "id": "UQKsVJU5_1UG"
      },
      "source": [
        "z=0.0 - 10.0j\n",
        "r=[]\n",
        "i=[]\n",
        "for k in range(50):\n",
        "  dz = df1(z)\n",
        "  z = z - f1(z) / dz # Newton iteration\n",
        "  r.append(np.real(z))\n",
        "  i.append(np.imag(z))\n",
        "plt.title('Newton iterates form z=-10.0 + 0.0j')\n",
        "plt.plot(r)\n",
        "plt.ylabel('Real part')\n",
        "plt.show()\n",
        "plt.plot(i)\n",
        "plt.ylabel('Imaginary part')\n",
        "plt.show()"
      ],
      "execution_count": null,
      "outputs": []
    },
    {
      "cell_type": "markdown",
      "metadata": {
        "id": "HCaLmcBi36rr"
      },
      "source": [
        "- $$(z-1)^2$$"
      ]
    },
    {
      "cell_type": "code",
      "metadata": {
        "id": "_bi_wTZd36rt"
      },
      "source": [
        "z=10.0 + 0.0j\n",
        "r=[]\n",
        "i=[]\n",
        "for k in range(50):\n",
        "  dz = df2(z)\n",
        "  z = z - f2(z) / dz # Newton iteration\n",
        "  r.append(np.real(z))\n",
        "  i.append(np.imag(z))\n",
        "plt.title('Newton iterates form z=10.0 + 0.0j')\n",
        "plt.plot(r)\n",
        "plt.ylabel('Real part')\n",
        "plt.show()\n",
        "plt.plot(i)\n",
        "plt.ylabel('Imaginary part')\n",
        "plt.show()"
      ],
      "execution_count": null,
      "outputs": []
    },
    {
      "cell_type": "code",
      "metadata": {
        "id": "iFDvYrnC_9Pq"
      },
      "source": [
        "z=-10.0 + 0.0j\n",
        "r=[]\n",
        "i=[]\n",
        "for k in range(50):\n",
        "  dz = df2(z)\n",
        "  z = z - f2(z) / dz # Newton iteration\n",
        "  r.append(np.real(z))\n",
        "  i.append(np.imag(z))\n",
        "plt.title('Newton iterates form z=10.0 + 0.0j')\n",
        "plt.plot(r)\n",
        "plt.ylabel('Real part')\n",
        "plt.show()\n",
        "plt.plot(i)\n",
        "plt.ylabel('Imaginary part')\n",
        "plt.show()"
      ],
      "execution_count": null,
      "outputs": []
    },
    {
      "cell_type": "code",
      "metadata": {
        "id": "drTD_FVX__-7"
      },
      "source": [
        "z=0.0 + 10.0j\n",
        "r=[]\n",
        "i=[]\n",
        "for k in range(50):\n",
        "  dz = df2(z)\n",
        "  z = z - f2(z) / dz # Newton iteration\n",
        "  r.append(np.real(z))\n",
        "  i.append(np.imag(z))\n",
        "plt.title('Newton iterates form z=10.0 + 0.0j')\n",
        "plt.plot(r)\n",
        "plt.ylabel('Real part')\n",
        "plt.show()\n",
        "plt.plot(i)\n",
        "plt.ylabel('Imaginary part')\n",
        "plt.show()"
      ],
      "execution_count": null,
      "outputs": []
    },
    {
      "cell_type": "code",
      "metadata": {
        "id": "aHNl-0NBAK-O"
      },
      "source": [
        "z=0.0 - 10.0j\n",
        "r=[]\n",
        "i=[]\n",
        "for k in range(50):\n",
        "  dz = df2(z)\n",
        "  z = z - f2(z) / dz # Newton iteration\n",
        "  r.append(np.real(z))\n",
        "  i.append(np.imag(z))\n",
        "plt.title('Newton iterates form z=10.0 + 0.0j')\n",
        "plt.plot(r)\n",
        "plt.ylabel('Real part')\n",
        "plt.show()\n",
        "plt.plot(i)\n",
        "plt.ylabel('Imaginary part')\n",
        "plt.show()"
      ],
      "execution_count": null,
      "outputs": []
    },
    {
      "cell_type": "markdown",
      "metadata": {
        "id": "MJwp1Esa4F7N"
      },
      "source": [
        "- $$z^2 - 1$$"
      ]
    },
    {
      "cell_type": "code",
      "metadata": {
        "id": "DhQNF3st4F7P"
      },
      "source": [
        "z=10.0 + 0.0j\n",
        "r=[]\n",
        "i=[]\n",
        "for k in range(50):\n",
        "  dz = df3(z)\n",
        "  z = z - f3(z) / dz # Newton iteration\n",
        "  r.append(np.real(z))\n",
        "  i.append(np.imag(z))\n",
        "plt.title('Newton iterates form z=10.0 + 0.0j')\n",
        "plt.plot(r)\n",
        "plt.ylabel('Real part')\n",
        "plt.show()\n",
        "plt.plot(i)\n",
        "plt.ylabel('Imaginary part')\n",
        "plt.show()"
      ],
      "execution_count": null,
      "outputs": []
    },
    {
      "cell_type": "code",
      "metadata": {
        "id": "ncciZsV5AQvM"
      },
      "source": [
        "z=-10.0 + 0.0j\n",
        "r=[]\n",
        "i=[]\n",
        "for k in range(50):\n",
        "  dz = df3(z)\n",
        "  z = z - f3(z) / dz # Newton iteration\n",
        "  r.append(np.real(z))\n",
        "  i.append(np.imag(z))\n",
        "plt.title('Newton iterates form z=10.0 + 0.0j')\n",
        "plt.plot(r)\n",
        "plt.ylabel('Real part')\n",
        "plt.show()\n",
        "plt.plot(i)\n",
        "plt.ylabel('Imaginary part')\n",
        "plt.show()"
      ],
      "execution_count": null,
      "outputs": []
    },
    {
      "cell_type": "code",
      "metadata": {
        "id": "cq1N7bTOATnW"
      },
      "source": [
        "z=0.0 + 10.0j\n",
        "r=[]\n",
        "i=[]\n",
        "for k in range(50):\n",
        "  dz = df3(z)\n",
        "  z = z - f3(z) / dz # Newton iteration\n",
        "  r.append(np.real(z))\n",
        "  i.append(np.imag(z))\n",
        "plt.title('Newton iterates form z=10.0 + 0.0j')\n",
        "plt.plot(r)\n",
        "plt.ylabel('Real part')\n",
        "plt.show()\n",
        "plt.plot(i)\n",
        "plt.ylabel('Imaginary part')\n",
        "plt.show()"
      ],
      "execution_count": null,
      "outputs": []
    },
    {
      "cell_type": "code",
      "metadata": {
        "id": "KhJ2ar_JAaUF"
      },
      "source": [
        "z=0.0 - 10.0j\n",
        "r=[]\n",
        "i=[]\n",
        "for k in range(50):\n",
        "  dz = df3(z)\n",
        "  z = z - f3(z) / dz # Newton iteration\n",
        "  r.append(np.real(z))\n",
        "  i.append(np.imag(z))\n",
        "plt.title('Newton iterates form z=10.0 + 0.0j')\n",
        "plt.plot(r)\n",
        "plt.ylabel('Real part')\n",
        "plt.show()\n",
        "plt.plot(i)\n",
        "plt.ylabel('Imaginary part')\n",
        "plt.show()"
      ],
      "execution_count": null,
      "outputs": []
    },
    {
      "cell_type": "markdown",
      "metadata": {
        "id": "_C48Y8zp4OlS"
      },
      "source": [
        "- $$z^2 + 1$$"
      ]
    },
    {
      "cell_type": "code",
      "metadata": {
        "id": "_2dR0dL-4OlT"
      },
      "source": [
        "z=10.0 + 0.0j\n",
        "r=[]\n",
        "i=[]\n",
        "for k in range(50):\n",
        "  dz = df4(z)\n",
        "  z = z - f4(z) / dz # Newton iteration\n",
        "  r.append(np.real(z))\n",
        "  i.append(np.imag(z))\n",
        "plt.title('Newton iterates form z=10.0 + 0.0j')\n",
        "plt.plot(r)\n",
        "plt.ylabel('Real part')\n",
        "plt.show()\n",
        "plt.plot(i)\n",
        "plt.ylabel('Imaginary part')\n",
        "plt.show()"
      ],
      "execution_count": null,
      "outputs": []
    },
    {
      "cell_type": "code",
      "metadata": {
        "id": "dWpil5XIAq4W"
      },
      "source": [
        "z=-10.0 + 0.0j\n",
        "r=[]\n",
        "i=[]\n",
        "for k in range(50):\n",
        "  dz = df4(z)\n",
        "  z = z - f4(z) / dz # Newton iteration\n",
        "  r.append(np.real(z))\n",
        "  i.append(np.imag(z))\n",
        "plt.title('Newton iterates form z=10.0 + 0.0j')\n",
        "plt.plot(r)\n",
        "plt.ylabel('Real part')\n",
        "plt.show()\n",
        "plt.plot(i)\n",
        "plt.ylabel('Imaginary part')\n",
        "plt.show()"
      ],
      "execution_count": null,
      "outputs": []
    },
    {
      "cell_type": "code",
      "metadata": {
        "id": "oI-EYI6SAvVo"
      },
      "source": [
        "z=0.0 + 10.0j\n",
        "r=[]\n",
        "i=[]\n",
        "for k in range(50):\n",
        "  dz = df4(z)\n",
        "  z = z - f4(z) / dz # Newton iteration\n",
        "  r.append(np.real(z))\n",
        "  i.append(np.imag(z))\n",
        "plt.title('Newton iterates form z=10.0 + 0.0j')\n",
        "plt.plot(r)\n",
        "plt.ylabel('Real part')\n",
        "plt.show()\n",
        "plt.plot(i)\n",
        "plt.ylabel('Imaginary part')\n",
        "plt.show()"
      ],
      "execution_count": null,
      "outputs": []
    },
    {
      "cell_type": "code",
      "metadata": {
        "id": "7Lekk1x9AyZW"
      },
      "source": [
        "z=0.0 - 10.0j\n",
        "r=[]\n",
        "i=[]\n",
        "for k in range(50):\n",
        "  dz = df4(z)\n",
        "  z = z - f4(z) / dz # Newton iteration\n",
        "  r.append(np.real(z))\n",
        "  i.append(np.imag(z))\n",
        "plt.title('Newton iterates form z=10.0 + 0.0j')\n",
        "plt.plot(r)\n",
        "plt.ylabel('Real part')\n",
        "plt.show()\n",
        "plt.plot(i)\n",
        "plt.ylabel('Imaginary part')\n",
        "plt.show()"
      ],
      "execution_count": null,
      "outputs": []
    }
  ]
}